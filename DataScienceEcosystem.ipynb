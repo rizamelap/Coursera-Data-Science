{
 "cells": [
  {
   "cell_type": "markdown",
   "id": "382cddce",
   "metadata": {},
   "source": [
    "# Data Science Tools and Ecosystem"
   ]
  },
  {
   "cell_type": "markdown",
   "id": "30ff3ab6",
   "metadata": {},
   "source": [
    "In this notebook, Data Science Tools and Ecosystem are summarized."
   ]
  },
  {
   "cell_type": "markdown",
   "id": "c98cff4a",
   "metadata": {},
   "source": [
    "**Objectives:**\n",
    "\n",
    "* List popular languages for Data Science\n",
    "* Commonly used libraries used by Data Scientists\n",
    "* Table of Data Science tools\n",
    "* Evaluating arithmetic expressions in Python\n",
    "* Converting Minutes to Hours"
   ]
  },
  {
   "cell_type": "markdown",
   "id": "c503ba2b",
   "metadata": {},
   "source": [
    "Some of the popular languages that Data Scientists use are:\n",
    "1. Python\n",
    "2. R Language\n",
    "3. Structured Query Language (SQL)"
   ]
  },
  {
   "cell_type": "markdown",
   "id": "44faafef",
   "metadata": {},
   "source": [
    "Some of the commonly used libraries used by Data Scientists include:\n",
    "\n",
    "I. Python\n",
    "1. Scientific Computing Libraries: Pandas, Numpy\n",
    "2. Visualization Libraries: Matplotlib, Seaborn\n",
    "3. High-Level- Machine Learning and Deep Learning: SciKit-Learn, Keras\n",
    "4. Deep Learning Libraries: TensorFlow, PyTorch\n",
    "\n",
    "II. R\n",
    "1. Data Visualization: ggplot2"
   ]
  },
  {
   "cell_type": "markdown",
   "id": "1a997711",
   "metadata": {},
   "source": [
    "|Data Science Tools|\n",
    "|:--------:|\n",
    "|Jupyter Notebook| \n",
    "|Jupyter Lab|  \n",
    "|Apache Zeppelin| "
   ]
  },
  {
   "cell_type": "markdown",
   "id": "a6106d85",
   "metadata": {},
   "source": [
    "### Below are a few examples of evaluating arithmetic expressions in Python"
   ]
  },
  {
   "cell_type": "code",
   "execution_count": 3,
   "id": "1de158ca",
   "metadata": {},
   "outputs": [
    {
     "data": {
      "text/plain": [
       "17"
      ]
     },
     "execution_count": 3,
     "metadata": {},
     "output_type": "execute_result"
    }
   ],
   "source": [
    "#This a simple arithmetic expression to mutiply then add integers\n",
    "(3*4)+5"
   ]
  },
  {
   "cell_type": "code",
   "execution_count": 6,
   "id": "4cb3ee47",
   "metadata": {},
   "outputs": [
    {
     "name": "stdout",
     "output_type": "stream",
     "text": [
      "3.3333333333333335\n"
     ]
    }
   ],
   "source": [
    "#This will convert 200 minutes to hours by diving by 60\n",
    "min=200/60\n",
    "print(min)"
   ]
  },
  {
   "cell_type": "markdown",
   "id": "016e4490",
   "metadata": {},
   "source": [
    "## Author\n",
    "Riza Carmela Pineda"
   ]
  },
  {
   "cell_type": "code",
   "execution_count": null,
   "id": "aa122929",
   "metadata": {},
   "outputs": [],
   "source": []
  }
 ],
 "metadata": {
  "kernelspec": {
   "display_name": "Python 3 (ipykernel)",
   "language": "python",
   "name": "python3"
  },
  "language_info": {
   "codemirror_mode": {
    "name": "ipython",
    "version": 3
   },
   "file_extension": ".py",
   "mimetype": "text/x-python",
   "name": "python",
   "nbconvert_exporter": "python",
   "pygments_lexer": "ipython3",
   "version": "3.11.4"
  }
 },
 "nbformat": 4,
 "nbformat_minor": 5
}
